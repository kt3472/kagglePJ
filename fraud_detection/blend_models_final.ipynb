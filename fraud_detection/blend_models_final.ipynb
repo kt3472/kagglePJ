{
 "cells": [
  {
   "cell_type": "code",
   "execution_count": 2,
   "metadata": {},
   "outputs": [],
   "source": [
    "#Load libraries\n",
    "import numpy as np # linear algebra\n",
    "import pandas as pd # data processing, CSV file I/O (e.g. pd.read_csv)\n",
    "import os\n"
   ]
  },
  {
   "cell_type": "code",
   "execution_count": 42,
   "metadata": {},
   "outputs": [],
   "source": [
    "# Upload submission\n",
    "sub=pd.read_csv('./sample_submission.csv')"
   ]
  },
  {
   "cell_type": "code",
   "execution_count": 15,
   "metadata": {},
   "outputs": [],
   "source": [
    "dir = './sub_data/'"
   ]
  },
  {
   "cell_type": "code",
   "execution_count": 39,
   "metadata": {},
   "outputs": [
    {
     "name": "stdout",
     "output_type": "stream",
     "text": [
      "df0 : \n",
      "./sub_data/a-method-to-valid-offline-lb-9506.csv\n",
      "df1 : \n",
      "./sub_data/cis-fraud-detection-visualize-feature-engineering.csv\n",
      "df2 : \n",
      "./sub_data/feature-engineering-lightgbm.csv\n",
      "df3 : \n",
      "./sub_data/ieee-gb-2-make-amount-useful-again.csv\n",
      "df4 : \n",
      "./sub_data/ieee-lgbm-with-groupkfold-cv.csv\n",
      "df5 : \n",
      "./sub_data/ieee-simple-lgbm.csv\n",
      "df6 : \n",
      "./sub_data/is-it-really-fraud.csv\n",
      "df7 : \n",
      "./sub_data/lgb-fe-0-9492-lb-newfeature-0-9496-lb.csv\n",
      "df8 : \n",
      "./sub_data/lgb-single-model-lb-0-9419.csv\n",
      "df9 : \n",
      "./sub_data/lightgbm-feature-engineering-eda-with-r.csv\n",
      "df10 : \n",
      "./sub_data/lightgbm-single-model-and-feature-engineering.csv\n"
     ]
    }
   ],
   "source": [
    "# Dataset loaded for blending \n",
    "# https://github.com/kt3472/kagglePJ/blob/master/fraud_detection/summary.md\n",
    "\n",
    "pred_label = 0\n",
    "\n",
    "file_list = os.listdir(path=dir)\n",
    "\n",
    "for i in range(len(file_list)):\n",
    "    \n",
    "    load_file_n = str(file_list[i])\n",
    "    \n",
    "    globals()['df{}'.format(i)] = pd.read_csv(dir+load_file_n)\n",
    "    \n",
    "    print('df{} : '.format(i))\n",
    "    \n",
    "    print(dir+load_file_n)\n",
    "    \n",
    "    "
   ]
  },
  {
   "cell_type": "code",
   "execution_count": 40,
   "metadata": {},
   "outputs": [],
   "source": [
    "# Referance : https://www.kaggle.com/zeus75/easy-blending"
   ]
  },
  {
   "cell_type": "code",
   "execution_count": 48,
   "metadata": {},
   "outputs": [],
   "source": [
    "blend1 = df0['isFraud']*0.7 + df7['isFraud']*0.06 + df9['isFraud']*0.06 + df3['isFraud']*0.06 + df8['isFraud']*0.06 + df2['isFraud']*0.06"
   ]
  },
  {
   "cell_type": "code",
   "execution_count": 49,
   "metadata": {},
   "outputs": [],
   "source": [
    "sub['isFraud'] = blend1\n",
    "df11 = sub"
   ]
  },
  {
   "cell_type": "code",
   "execution_count": 50,
   "metadata": {},
   "outputs": [],
   "source": [
    "blend2 = df11['isFraud']*0.5 + df4['isFraud']*0.1 + df10['isFraud']*0.1 + df6['isFraud']*0.1 + df2['isFraud']*0.1 + df5['isFraud']*0.1"
   ]
  },
  {
   "cell_type": "code",
   "execution_count": 51,
   "metadata": {},
   "outputs": [],
   "source": [
    "sub1 = pd.read_csv('./sample_submission.csv')"
   ]
  },
  {
   "cell_type": "code",
   "execution_count": 52,
   "metadata": {},
   "outputs": [
    {
     "data": {
      "text/html": [
       "<div>\n",
       "<style scoped>\n",
       "    .dataframe tbody tr th:only-of-type {\n",
       "        vertical-align: middle;\n",
       "    }\n",
       "\n",
       "    .dataframe tbody tr th {\n",
       "        vertical-align: top;\n",
       "    }\n",
       "\n",
       "    .dataframe thead th {\n",
       "        text-align: right;\n",
       "    }\n",
       "</style>\n",
       "<table border=\"1\" class=\"dataframe\">\n",
       "  <thead>\n",
       "    <tr style=\"text-align: right;\">\n",
       "      <th></th>\n",
       "      <th>TransactionID</th>\n",
       "      <th>isFraud</th>\n",
       "    </tr>\n",
       "  </thead>\n",
       "  <tbody>\n",
       "    <tr>\n",
       "      <th>0</th>\n",
       "      <td>3663549</td>\n",
       "      <td>0.000642</td>\n",
       "    </tr>\n",
       "    <tr>\n",
       "      <th>1</th>\n",
       "      <td>3663550</td>\n",
       "      <td>0.001475</td>\n",
       "    </tr>\n",
       "    <tr>\n",
       "      <th>2</th>\n",
       "      <td>3663551</td>\n",
       "      <td>0.001142</td>\n",
       "    </tr>\n",
       "    <tr>\n",
       "      <th>3</th>\n",
       "      <td>3663552</td>\n",
       "      <td>0.001092</td>\n",
       "    </tr>\n",
       "    <tr>\n",
       "      <th>4</th>\n",
       "      <td>3663553</td>\n",
       "      <td>0.000964</td>\n",
       "    </tr>\n",
       "  </tbody>\n",
       "</table>\n",
       "</div>"
      ],
      "text/plain": [
       "   TransactionID   isFraud\n",
       "0        3663549  0.000642\n",
       "1        3663550  0.001475\n",
       "2        3663551  0.001142\n",
       "3        3663552  0.001092\n",
       "4        3663553  0.000964"
      ]
     },
     "execution_count": 52,
     "metadata": {},
     "output_type": "execute_result"
    }
   ],
   "source": [
    "sub1['isFraud'] = blend2\n",
    "sub1.head()"
   ]
  },
  {
   "cell_type": "code",
   "execution_count": 53,
   "metadata": {},
   "outputs": [],
   "source": [
    "# sub1.to_csv('easy_blend4.csv',index=False)"
   ]
  },
  {
   "cell_type": "code",
   "execution_count": null,
   "metadata": {},
   "outputs": [],
   "source": []
  }
 ],
 "metadata": {
  "kernelspec": {
   "display_name": "Python 3",
   "language": "python",
   "name": "python3"
  },
  "language_info": {
   "codemirror_mode": {
    "name": "ipython",
    "version": 3
   },
   "file_extension": ".py",
   "mimetype": "text/x-python",
   "name": "python",
   "nbconvert_exporter": "python",
   "pygments_lexer": "ipython3",
   "version": "3.7.4"
  }
 },
 "nbformat": 4,
 "nbformat_minor": 2
}
